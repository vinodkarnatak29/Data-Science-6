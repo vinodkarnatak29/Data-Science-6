{
 "cells": [
  {
   "cell_type": "markdown",
   "metadata": {},
   "source": [
    "Question 1:\n",
    "Write a function so that the columns of the output matrix are powers of the input vector.\n",
    "The order of the powers is determined by the increasing boolean argument. Specifically, when increasing is False, the i-th output column is the input vector raised element-wise to the power of N - i - 1."
   ]
  },
  {
   "cell_type": "code",
   "execution_count": 9,
   "metadata": {},
   "outputs": [
    {
     "name": "stdout",
     "output_type": "stream",
     "text": [
      "Input vector [1 2 3 5]\n",
      "Result, when boolean argument is True: \n",
      " [[  1   1   1   1   1]\n",
      " [  1   2   4   8  16]\n",
      " [  1   3   9  27  81]\n",
      " [  1   5  25 125 625]]\n",
      "Result, when boolean argument is False: \n",
      " [[  1   1   1   1   1]\n",
      " [ 16   8   4   2   1]\n",
      " [ 81  27   9   3   1]\n",
      " [625 125  25   5   1]]\n"
     ]
    }
   ],
   "source": [
    "#Solution\n",
    "\n",
    "# Import numpy package\n",
    "import numpy as np\n",
    "\n",
    "# Function\n",
    "# vanderMondeMatrix () Parameters: inputVector,n,boolArg \n",
    "# @inputVector : arrayLike 1-D input array. \n",
    "# @n : int, optional Number of columns in the output.\n",
    "# @boolArg : bool, If True, the powers increase from left to right, if False they are reversed.\n",
    "\n",
    "#Returns: ndarray\n",
    "\n",
    "# numpy vander() Parameters: x,N,increasing \n",
    "# @x : arrayLike 1-D input array. \n",
    "# @N : int, optional Number of columns in the output. If N is not specified, a square array is returned (N = len(x)).\n",
    "# @increasing : bool, optional Order of the powers of the columns.\n",
    "#    If True, the powers increase from left to right, if False (the default) they are reversed.\n",
    "\n",
    "def vanderMondeMatrix(inputVector,n,boolArg):\n",
    "    return np.vander(x=inputVector,N=n,increasing=boolArg)\n",
    "\n",
    "# Example\n",
    "inputVector = np.array([1, 2, 3, 5])\n",
    "n = 5\n",
    "\n",
    "# function execution\n",
    "trueMatrix = vanderMondeMatrix(inputVector,n,True)\n",
    "\n",
    "falseMatrix = vanderMondeMatrix(inputVector,n,False)\n",
    "\n",
    "#output\n",
    "print(\"Input vector\",inputVector)\n",
    "print(\"Result, when boolean argument is True: \\n\",trueMatrix)\n",
    "print(\"Result, when boolean argument is False: \\n\",falseMatrix)"
   ]
  },
  {
   "cell_type": "code",
   "execution_count": null,
   "metadata": {},
   "outputs": [],
   "source": []
  }
 ],
 "metadata": {
  "kernelspec": {
   "display_name": "Python 3",
   "language": "python",
   "name": "python3"
  },
  "language_info": {
   "codemirror_mode": {
    "name": "ipython",
    "version": 3
   },
   "file_extension": ".py",
   "mimetype": "text/x-python",
   "name": "python",
   "nbconvert_exporter": "python",
   "pygments_lexer": "ipython3",
   "version": "3.6.5"
  }
 },
 "nbformat": 4,
 "nbformat_minor": 2
}
